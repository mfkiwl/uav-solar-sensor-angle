{
 "cells": [
  {
   "cell_type": "markdown",
   "id": "b784682f",
   "metadata": {},
   "source": [
    "This notebook shows the methods to convert raster to points using GDAL. The outputs are saved in a 'csv' format along with coordinates. The output file will be located in the same directory the input file is. It will be the same name as the input file."
   ]
  },
  {
   "cell_type": "code",
   "execution_count": null,
   "id": "67bbd53f",
   "metadata": {},
   "outputs": [],
   "source": [
    "import os\n",
    "import glob\n",
    "import numpy as np\n",
    "import pandas as pd\n",
    "import geopandas as gpd\n",
    "from pyproj import Transformer\n",
    "from osgeo import gdal\n",
    "from shapely.geometry import Point\n",
    "import matplotlib.pyplot as plt"
   ]
  },
  {
   "cell_type": "code",
   "execution_count": null,
   "id": "552e2fd6",
   "metadata": {},
   "outputs": [],
   "source": [
    "# Define the working directory\n",
    "os.chdir('YOUR WORKING DIRECTORY')"
   ]
  },
  {
   "cell_type": "code",
   "execution_count": null,
   "id": "9b682ec7",
   "metadata": {},
   "outputs": [],
   "source": [
    "def raster_to_points(raster_path):\n",
    "    \n",
    "    # Open the band image using gdal\n",
    "    gdal_raster = gdal.Open(raster_path)\n",
    "    \n",
    "    # Convert raster gdal to XYZ points\n",
    "    point_XYZ = gdal.Translate(raster_path.split('.')[0]+'.xyz',\n",
    "                               gdal_raster,\n",
    "                               format='XYZ', creationOptions=[\"ADD_HEADER_LINE=YES\", \"DECIMAL_PRECISION=20\"])\n",
    "    \n",
    "    # Release the files\n",
    "    point_XYZ = None\n",
    "    gdal_raster = None\n",
    "    \n",
    "    # Rename the xyz file to csv\n",
    "    try:\n",
    "        os.rename(raster_path.split('.')[0]+'.xyz', raster_path.split('.')[0]+'.csv')\n",
    "    except:\n",
    "        os.remove(raster_path.split('.')[0]+'.csv')\n",
    "        os.rename(raster_path.split('.')[0]+'.xyz', raster_path.split('.')[0]+'.csv')\n",
    "    \n",
    "    # Read the csv as pandas dataframe\n",
    "    point = pd.read_csv(raster_path.split('.')[0]+'.csv', delimiter=' ')\n",
    "    \n",
    "    # Remove nodata with 0.0\n",
    "    point = point[point['Z']!=0.0]\n",
    "    \n",
    "    # Remove the csv file from the disk\n",
    "    os.remove(raster_path.split('.')[0]+'.csv')\n",
    "    \n",
    "    # Get only the Lon and Lat\n",
    "    point = point[['X', 'Y']]\n",
    "    point.columns = ['X_r', 'Y_r']\n",
    "    point.reset_index(drop=True, inplace=True)\n",
    "    \n",
    "    # Insert new columns for X and Y\n",
    "    point.insert(2, \"Lat_r\", 0)\n",
    "    point.insert(3, \"Lon_r\", 0)\n",
    "\n",
    "    # Convert lat lon to X and Y in UTM 15N\n",
    "    # (Our study area is in UTM 15N, Change if necessary)\n",
    "    # Find the EPSG code for your study area\n",
    "    transformer = Transformer.from_crs(32615, 4326)\n",
    "    Lat_r, Lon_r = transformer.transform(point.iloc[:, 0], point.iloc[:, 1])\n",
    "    point.loc[:, 'Lat_r'] = Lat_r\n",
    "    point.loc[:, 'Lon_r'] = Lon_r\n",
    "    \n",
    "    # Save the updated csv\n",
    "    point.to_csv(raster_path.split('.')[0]+'.csv')\n",
    "    \n",
    "    print(os.path.basename(raster_path) + \" done!\")"
   ]
  },
  {
   "cell_type": "code",
   "execution_count": null,
   "id": "a27e9880",
   "metadata": {},
   "outputs": [],
   "source": [
    "# Define the input data path\n",
    "img_path = './raw_0_rd_rf_or_pr_warp.dat'"
   ]
  },
  {
   "cell_type": "code",
   "execution_count": null,
   "id": "e27fc232",
   "metadata": {},
   "outputs": [],
   "source": [
    "%%time\n",
    "raster_to_points(img_path)"
   ]
  }
 ],
 "metadata": {
  "kernelspec": {
   "display_name": "Python 3 (ipykernel)",
   "language": "python",
   "name": "python3"
  },
  "language_info": {
   "codemirror_mode": {
    "name": "ipython",
    "version": 3
   },
   "file_extension": ".py",
   "mimetype": "text/x-python",
   "name": "python",
   "nbconvert_exporter": "python",
   "pygments_lexer": "ipython3",
   "version": "3.9.7"
  }
 },
 "nbformat": 4,
 "nbformat_minor": 5
}
